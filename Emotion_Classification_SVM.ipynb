{
 "cells": [
  {
   "cell_type": "code",
   "execution_count": 17,
   "metadata": {
    "id": "yd5zwEUDoVzj"
   },
   "outputs": [],
   "source": [
    "import pandas as pd\n",
    "import numpy as np\n",
    "import matplotlib.pyplot as plt\n",
    "from sklearn.model_selection import train_test_split, GridSearchCV\n",
    "from sklearn.feature_extraction.text import TfidfVectorizer\n",
    "from sklearn.preprocessing import LabelEncoder\n",
    "from sklearn.svm import SVC\n",
    "from sklearn.metrics import accuracy_score, classification_report, confusion_matrix\n",
    "from collections import defaultdict\n",
    "import time\n",
    "import joblib\n",
    "import argparse"
   ]
  },
  {
   "cell_type": "code",
   "execution_count": 18,
   "metadata": {
    "id": "U0I10FuooiFm"
   },
   "outputs": [],
   "source": [
    "def load_data(path):\n",
    "    \"\"\"Load CSV and do a quick sanity check.\"\"\"\n",
    "    df = pd.read_csv('/content/test.csv')\n",
    "    print(f\"Loaded {len(df)} rows.\")\n",
    "    print(df.head(), \"\\n\")\n",
    "    print(\"Label counts:\\n\", df['label'].value_counts(), \"\\n\")\n",
    "    return df"
   ]
  },
  {
   "cell_type": "code",
   "execution_count": 19,
   "metadata": {
    "id": "2Xn-xT8UowKC"
   },
   "outputs": [],
   "source": [
    "def preprocess_and_encode(df):\n",
    "    \"\"\"Handle missing values (if any) and encode labels to integers.\"\"\"\n",
    "    # Drop rows where text or label is missing\n",
    "    df = df.dropna(subset=['text', 'label'])\n",
    "\n",
    "    # Ensure the 'label' column is treated as strings\n",
    "    df['label'] = df['label'].astype(str)\n",
    "\n",
    "    # Encode labels (anger, fear, joy, sadness, surprise, neutral, etc.)\n",
    "    le = LabelEncoder()\n",
    "    df['label_enc'] = le.fit_transform(df['label'])\n",
    "\n",
    "    print(\"Classes found:\", list(le.classes_))\n",
    "    return df, le"
   ]
  },
  {
   "cell_type": "code",
   "execution_count": 20,
   "metadata": {
    "id": "HEVOuyvAo2_0"
   },
   "outputs": [],
   "source": [
    "def extract_features(df, max_features=5000):\n",
    "    \"\"\"Convert raw text into TF-IDF features.\"\"\"\n",
    "    tfidf = TfidfVectorizer(\n",
    "        stop_words='english',\n",
    "        max_features=max_features,\n",
    "        ngram_range=(1,2),\n",
    "        min_df=5,\n",
    "        max_df=0.7\n",
    "    )\n",
    "    X = tfidf.fit_transform(df['text'])\n",
    "    y = df['label_enc']\n",
    "    print(f\"TF-IDF matrix: {X.shape}\")\n",
    "    return X, y, tfidf"
   ]
  },
  {
   "cell_type": "code",
   "execution_count": 21,
   "metadata": {
    "id": "heNru_tqo-hV"
   },
   "outputs": [],
   "source": [
    "def evaluate_model(model, X_test, y_test, label_encoder):\n",
    "    \"\"\"Print accuracy, classification report, and confusion matrix.\"\"\"\n",
    "    y_pred = model.predict(X_test)\n",
    "    acc = accuracy_score(y_test, y_pred)\n",
    "    print(f\"Accuracy: {acc:.3f}\\n\")\n",
    "    print(classification_report(y_test, y_pred, target_names=label_encoder.classes_))\n",
    "\n",
    "    cm = confusion_matrix(y_test, y_pred)\n",
    "   # Explicitly create figure and axes\n",
    "    fig, ax = plt.subplots(figsize=(6,5))\n",
    "\n",
    "    ax.set_title(\"Confusion Matrix\")\n",
    "    # Use the axes object to display the matrix\n",
    "    im = ax.matshow(cm, cmap='Blues') # Removed fignum=1 here\n",
    "    ax.set_xlabel(\"Predicted\")\n",
    "    ax.set_ylabel(\"True\")\n",
    "    fig.colorbar(im, ax=ax) # Attach colorbar to the axes\n",
    "\n",
    "    # Set ticks and labels\n",
    "    ax.set_xticks(np.arange(cm.shape[1]))\n",
    "    ax.set_yticks(np.arange(cm.shape[0]))\n",
    "    ax.set_xticklabels(label_encoder.classes_)\n",
    "    ax.set_yticklabels(label_encoder.classes_)\n",
    "    plt.xticks(rotation=90) # Rotate x-axis labels for better readability\n",
    "\n",
    "    plt.show()\n"
   ]
  },
  {
   "cell_type": "code",
   "execution_count": 23,
   "metadata": {
    "id": "IO1DeJwPpHu-"
   },
   "outputs": [],
   "source": [
    "emotion_names = {\n",
    "    0: 'sadness',\n",
    "    1: 'joy',\n",
    "    2: 'fear',\n",
    "    3: 'anger',\n",
    "    4: 'surprise',\n",
    "    5: 'neutral'\n",
    "}\n",
    "\n",
    "\n",
    "class EmotionAlertSystem:\n",
    "    \"\"\"Simple alerting when model is confident about high-risk emotions.\"\"\"\n",
    "    def __init__(self, model, vectorizer, label_encoder, rules):\n",
    "        \"\"\"\n",
    "        rules = {\n",
    "          'high_risk': ['anger','fear'],\n",
    "          'medium_risk': ['sadness'],\n",
    "          'threshold': 0.75\n",
    "        }\n",
    "        \"\"\"\n",
    "        self.model = model\n",
    "        self.vec = vectorizer\n",
    "        self.le = label_encoder\n",
    "        self.rules = rules\n",
    "        self.history = defaultdict(list)\n",
    "\n",
    "    # In EmotionAlertSystem class\n",
    "    def decode(self, idx):\n",
    "        return emotion_names.get(idx, \"unknown\")\n",
    "\n",
    "\n",
    "    def check(self, text):\n",
    "        \"\"\"Return emotion, confidence, and any alert.\"\"\"\n",
    "        X = self.vec.transform([text])\n",
    "        probs = self.model.predict_proba(X)[0]\n",
    "        idx = np.argmax(probs)\n",
    "        conf = probs[idx]\n",
    "        emo = self.decode(idx)\n",
    "\n",
    "        alert = None\n",
    "        if conf >= self.rules['threshold']:\n",
    "            if emo in self.rules['high_risk']:\n",
    "                alert = 'HIGH_RISK'\n",
    "                self.history['high_risk'].append((text, emo, conf, time.time()))\n",
    "            elif emo in self.rules['medium_risk']:\n",
    "                alert = 'MEDIUM_RISK'\n",
    "                self.history['medium_risk'].append((text, emo, conf, time.time()))\n",
    "\n",
    "        return emo, conf, alert"
   ]
  },
  {
   "cell_type": "code",
   "execution_count": 24,
   "metadata": {
    "id": "0n6Mih_gpJMs"
   },
   "outputs": [],
   "source": [
    "def main(args):\n",
    "    # 1. Load & preprocess\n",
    "    df = load_data(args.data_path)\n",
    "    df, le = preprocess_and_encode(df)\n",
    "\n",
    "    # 2. Feature extraction & split\n",
    "    X, y, tfidf = extract_features(df)\n",
    "    X_train, X_test, y_train, y_test = train_test_split(\n",
    "        X, y, test_size=0.2, random_state=42, stratify=y\n",
    "    )\n",
    "\n",
    "    # 3. Baseline model\n",
    "    print(\"Training baseline SVM (linear kernel)...\")\n",
    "    svm_lin = SVC(kernel='linear', C=1.0, class_weight='balanced',\n",
    "                  probability=True, random_state=42)\n",
    "    svm_lin.fit(X_train, y_train)\n",
    "    evaluate_model(svm_lin, X_test, y_test, le)\n",
    "\n",
    "    # 4. Grid search for best kernel/C\n",
    "    print(\"Running GridSearch over kernels and C...\")\n",
    "    param_grid = {\n",
    "        'kernel': ['linear','rbf','poly'],\n",
    "        'C': [0.1,1,10],\n",
    "        'gamma': ['scale','auto']\n",
    "    }\n",
    "    grid = GridSearchCV(SVC(class_weight='balanced', probability=True, random_state=42),\n",
    "                        param_grid, cv=3, n_jobs=-1, verbose=1)\n",
    "    grid.fit(X_train, y_train)\n",
    "    print(\"Best params:\", grid.best_params_, \"\\n\")\n",
    "\n",
    "    best_svm = grid.best_estimator_\n",
    "    print(\"Evaluating best model:\")\n",
    "    evaluate_model(best_svm, X_test, y_test, le)\n",
    "\n",
    "    # 5. Alert system demo\n",
    "    rules = {\n",
    "      'high_risk': ['anger','fear'],\n",
    "      'medium_risk': ['sadness'],\n",
    "      'threshold': 0.75\n",
    "    }\n",
    "    alerter = EmotionAlertSystem(best_svm, tfidf, le, rules)\n",
    "\n",
    "    samples = [\n",
    "        \"I'm so angry about what happened today!\",\n",
    "        \"Feeling very sad and down…\",\n",
    "        \"I'm excited about my new job!\",\n",
    "        \"That movie scared me so much!\",\n",
    "    ]\n",
    "    print(\"\\n=== Alert System Demo ===\")\n",
    "    for text in samples:\n",
    "        emo, conf, alert = alerter.check(text)\n",
    "        print(f\"\\\"{text}\\\" → {emo} ({conf:.2f})\", \"🚨\"+alert if alert else \"\")\n",
    "\n",
    "    # 6. Save model for later\n",
    "    joblib.dump({\n",
    "        'model': best_svm,\n",
    "        'vectorizer': tfidf,\n",
    "        'label_encoder': le,\n",
    "        'alert_rules': rules\n",
    "    }, args.output)\n",
    "    print(f\"\\nSaved trained pipeline to {args.output}\")\n"
   ]
  },
  {
   "cell_type": "code",
   "execution_count": 25,
   "metadata": {
    "colab": {
     "base_uri": "https://localhost:8080/",
     "height": 1000
    },
    "id": "Qo-RA03dpPjw",
    "outputId": "82e3bb9b-398b-4dbc-cbb3-e90ea5771253"
   },
   "outputs": [
    {
     "name": "stdout",
     "output_type": "stream",
     "text": [
      "Loaded 2000 rows.\n",
      "                                                text  label\n",
      "0  im feeling rather rotten so im not very ambiti...      0\n",
      "1          im updating my blog because i feel shitty      0\n",
      "2  i never make her separate from me because i do...      0\n",
      "3  i left with my bouquet of red and yellow tulip...      1\n",
      "4    i was feeling a little vain when i did this one      0 \n",
      "\n",
      "Label counts:\n",
      " label\n",
      "1    695\n",
      "0    581\n",
      "3    275\n",
      "4    224\n",
      "2    159\n",
      "5     66\n",
      "Name: count, dtype: int64 \n",
      "\n",
      "Classes found: ['0', '1', '2', '3', '4', '5']\n",
      "TF-IDF matrix: (2000, 788)\n",
      "Training baseline SVM (linear kernel)...\n",
      "Accuracy: 0.710\n",
      "\n",
      "              precision    recall  f1-score   support\n",
      "\n",
      "           0       0.75      0.74      0.75       116\n",
      "           1       0.77      0.81      0.79       139\n",
      "           2       0.52      0.41      0.46        32\n",
      "           3       0.66      0.71      0.68        55\n",
      "           4       0.64      0.60      0.62        45\n",
      "           5       0.46      0.46      0.46        13\n",
      "\n",
      "    accuracy                           0.71       400\n",
      "   macro avg       0.63      0.62      0.63       400\n",
      "weighted avg       0.71      0.71      0.71       400\n",
      "\n"
     ]
    },
    {
     "data": {
      "image/png": "[encoded data removed]",
      "text/plain": [
       "<Figure size 600x500 with 2 Axes>"
      ]
     },
     "metadata": {},
     "output_type": "display_data"
    },
    {
     "name": "stdout",
     "output_type": "stream",
     "text": [
      "Running GridSearch over kernels and C...\n",
      "Fitting 3 folds for each of 18 candidates, totalling 54 fits\n",
      "Best params: {'C': 1, 'gamma': 'scale', 'kernel': 'linear'} \n",
      "\n",
      "Evaluating best model:\n",
      "Accuracy: 0.710\n",
      "\n",
      "              precision    recall  f1-score   support\n",
      "\n",
      "           0       0.75      0.74      0.75       116\n",
      "           1       0.77      0.81      0.79       139\n",
      "           2       0.52      0.41      0.46        32\n",
      "           3       0.66      0.71      0.68        55\n",
      "           4       0.64      0.60      0.62        45\n",
      "           5       0.46      0.46      0.46        13\n",
      "\n",
      "    accuracy                           0.71       400\n",
      "   macro avg       0.63      0.62      0.63       400\n",
      "weighted avg       0.71      0.71      0.71       400\n",
      "\n"
     ]
    },
    {
     "data": {
      "image/png": "[encoded data removed]",
      "text/plain": [
       "<Figure size 600x500 with 2 Axes>"
      ]
     },
     "metadata": {},
     "output_type": "display_data"
    },
    {
     "name": "stdout",
     "output_type": "stream",
     "text": [
      "\n",
      "=== Alert System Demo ===\n",
      "\"I'm so angry about what happened today!\" → anger (0.84) 🚨HIGH_RISK\n",
      "\"Feeling very sad and down…\" → sadness (0.40) \n",
      "\"I'm excited about my new job!\" → joy (0.84) \n",
      "\"That movie scared me so much!\" → surprise (0.93) \n",
      "\n",
      "Saved trained pipeline to emotion_classifier.pkl\n"
     ]
    }
   ],
   "source": [
    "if __name__ == \"__main__\":\n",
    "    # In a notebook environment, we can't use argparse directly.\n",
    "    # Instead, define the arguments here:\n",
    "    class Args:\n",
    "        def __init__(self, data_path, output):\n",
    "            self.data_path = data_path\n",
    "            self.output = output\n",
    "\n",
    "    # Define your data path and output file here\n",
    "    # Replace '/content/test.csv' with the actual path to your data file\n",
    "    data_path = '/content/test.csv'\n",
    "    output_file = \"emotion_classifier.pkl\"\n",
    "\n",
    "    args = Args(data_path, output_file)\n",
    "    main(args)"
   ]
  }
 ],
 "metadata": {
  "colab": {
   "provenance": []
  },
  "kernelspec": {
   "display_name": "Python 3",
   "name": "python3"
  },
  "language_info": {
   "name": "python"
  }
 },
 "nbformat": 4,
 "nbformat_minor": 0
}
